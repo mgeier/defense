{
 "cells": [
  {
   "cell_type": "markdown",
   "metadata": {
    "slideshow": {
     "slide_type": "skip"
    }
   },
   "source": [
    "This [Jupyter notebook](https://jupyter.org/)\n",
    "is meant to be viewed in \"slide mode\".\n",
    "\n",
    "If you want to view the slides locally\n",
    "(with notebook version < 7),\n",
    "you'll need to install [RISE](https://rise.readthedocs.io/).\n",
    "With notebook version 7 and above,\n",
    "and with JupyterLab,\n",
    "you can try the [`jupyterlab_rise`](https://github.com/jupyterlab-contrib/rise) extension.\n",
    "\n",
    "But it's probably simpler to just visit the\n",
    "[online version](https://nbviewer.org/format/slides/github/mgeier/defense/blob/main/presentation.ipynb)."
   ]
  },
  {
   "cell_type": "markdown",
   "metadata": {
    "slideshow": {
     "slide_type": "slide"
    },
    "tags": []
   },
   "source": [
    "# Describing Three-Dimensional Movements in an Audio Scene Authoring Format\n",
    "\n",
    "Matthias Geier\n",
    "\n",
    "Thesis:\n",
    "[PDF](https://github.com/mgeier/diss/releases/download/initial-submission/Geier_Diss.pdf),\n",
    "[LaTeX sources](https://github.com/mgeier/diss)  \n",
    "Slides: https://github.com/mgeier/defense"
   ]
  },
  {
   "cell_type": "markdown",
   "metadata": {
    "slideshow": {
     "slide_type": "subslide"
    },
    "tags": []
   },
   "source": [
    "## Table of Contents\n",
    "\n",
    "* Spatial Audio From the Beginning\n",
    "  * object-based audio reproduction\n",
    "* Movement and Time in Existing Formats\n",
    "  * VRML, X3D, MPEG-4 AudioBIFS, Audio3D, XML3DAUDIO, ADM, SpatDIF, Spat-SDIF, TASCAR, SMIL\n",
    "* Development of a Scene Authoring Format: ASDF\n",
    "* Implementation and Integration of an ASDF Library\n",
    "* Conclusion and Future Work\n",
    "* Appendix A: ASDF specification & documentation\n",
    "* Appendix B: Splines\n",
    "  * Euclidean\n",
    "  * rotation"
   ]
  },
  {
   "cell_type": "markdown",
   "metadata": {
    "slideshow": {
     "slide_type": "slide"
    },
    "tags": []
   },
   "source": [
    "## Spatial Audio\n",
    "\n",
    "* binaural\n",
    "* WFS\n",
    "* Ambisonics\n",
    "* VBAP\n",
    "* ...\n",
    "\n",
    "problem:\n",
    "\n",
    "* many output channels\n",
    "* heterogeneous setups\n",
    "\n",
    "solution:\n",
    "\n",
    "* object-based audio reproduction"
   ]
  },
  {
   "cell_type": "markdown",
   "metadata": {
    "slideshow": {
     "slide_type": "subslide"
    },
    "tags": []
   },
   "source": [
    "### Object-Based Audio Reproduction\n",
    "\n",
    "* sound sources (mono signals)\n",
    "* groups of sound sources\n",
    "* observer position\n",
    "* three-dimensional movement & trajectories\n",
    "  * translation\n",
    "  * rotation\n",
    "  * movements in local coordinate systems, which are moving themselves\n",
    "* dynamic volume control"
   ]
  },
  {
   "cell_type": "markdown",
   "metadata": {
    "slideshow": {
     "slide_type": "slide"
    },
    "tags": []
   },
   "source": [
    "## Audio Scene Description Format (ASDF)\n",
    "\n",
    "https://AudioSceneDescriptionFormat.readthedocs.io/\n",
    "\n",
    "```xml\n",
    "<asdf version=\"0.4\">\n",
    "  <clip file=\"audio/ukewave.ogg\" pos=\"1 2\" />\n",
    "</asdf>\n",
    "```"
   ]
  },
  {
   "cell_type": "markdown",
   "metadata": {
    "slideshow": {
     "slide_type": "subslide"
    },
    "tags": []
   },
   "source": [
    "### Time Containers\n",
    "\n",
    "`<par>` and `<seq>` inspired by the [SMIL](https://www.w3.org/TR/SMIL/) format:\n",
    "\n",
    "```xml\n",
    "<asdf version=\"0.4\">\n",
    "  <par>\n",
    "    <clip file=\"audio/ukewave.ogg\" pos=\"0 2\" />\n",
    "    <seq>\n",
    "      <clip file=\"audio/marimba.ogg\">\n",
    "        <channel pos=\"-1 2\" />\n",
    "        <channel pos=\"1 2\" />\n",
    "      </clip>\n",
    "      <clip file=\"audio/xmas.wav\" pos=\"-1.5 0\" />\n",
    "    </seq>\n",
    "  </par>\n",
    "</asdf>\n",
    "```"
   ]
  },
  {
   "cell_type": "markdown",
   "metadata": {
    "slideshow": {
     "slide_type": "subslide"
    }
   },
   "source": [
    "### Trajectories with Time and Speed\n",
    "\n",
    "```xml\n",
    "<asdf version=\"0.4\">\n",
    "  <par>\n",
    "    <clip id=\"ukulele\" file=\"audio/ukewave.ogg\" />\n",
    "    <transform apply-to=\"ukulele\">\n",
    "      <o pos=\"-2 -2\" speed=\"0\" />\n",
    "      <o pos=\"-2 2\" />\n",
    "      <o pos=\"2 2\" time=\"15\" speed=\"0.5\" />\n",
    "      <o pos=\"2 -2\" />\n",
    "    </transform>\n",
    "  </par>\n",
    "</asdf>\n",
    "```"
   ]
  },
  {
   "cell_type": "markdown",
   "metadata": {
    "slideshow": {
     "slide_type": "subslide"
    }
   },
   "source": [
    "### Nested Transforms\n",
    "\n",
    "```xml\n",
    "<asdf version=\"0.4\">\n",
    "  <par>\n",
    "    <clip id=\"ukulele\" file=\"audio/ukewave.ogg\" pos=\"-2 -2\" />\n",
    "    <transform id=\"horizontal-movement\" apply-to=\"ukulele\" repeat=\"10\">\n",
    "      <o pos=\"2 4\" />\n",
    "      <o pos=\"0 2\" />\n",
    "      <o pos=\"2 0\" />\n",
    "      <o pos=\"4 2\" />\n",
    "      <o pos=\"closed\" />\n",
    "    </transform>\n",
    "    <transform apply-to=\"horizontal-movement\">\n",
    "      <o rot=\"0\" />\n",
    "      <o rot=\"0 0 90\" />\n",
    "      <o rot=\"0 0 180\" />\n",
    "    </transform>\n",
    "  </par>\n",
    "</asdf>\n",
    "```"
   ]
  },
  {
   "cell_type": "markdown",
   "metadata": {
    "slideshow": {
     "slide_type": "subslide"
    }
   },
   "source": [
    "### Mixed Transform Attributes\n",
    "\n",
    "```xml\n",
    "<asdf version=\"0.4\">\n",
    "  <par>\n",
    "    <clip id=\"marimba\" file=\"audio/marimba.ogg\">\n",
    "      <channel pos=\"-1 0\" />\n",
    "      <channel pos=\"1 0\" />\n",
    "    </clip>\n",
    "    <transform apply-to=\"marimba\">\n",
    "      <o pos=\"0 -2\" rot=\"-20\" vol=\"1\" />\n",
    "      <o pos=\"0 0\" time=\"1s\" />\n",
    "      <o vol=\"1\" />\n",
    "      <o rot=\"0\" time=\"2s\" />\n",
    "      <o vol=\"0\" />\n",
    "      <o vol=\"1\" time=\"65%\" />\n",
    "      <o pos=\"0 2\" rot=\"20\" vol=\"1\"/>\n",
    "    </transform>\n",
    "  </par>\n",
    "</asdf>\n",
    "```"
   ]
  },
  {
   "cell_type": "markdown",
   "metadata": {
    "slideshow": {
     "slide_type": "slide"
    },
    "tags": []
   },
   "source": [
    "## Splines\n",
    "\n",
    "Goal: scene author defines a few points in 3D space, a smooth curve is generated\n",
    "\n",
    "further goals:\n",
    "\n",
    "* don't stray too far from the control points\n",
    "* changes in one place should only affect the immediate surroundings\n",
    "* control timing, control speed\n",
    "\n",
    "afterwards:\n",
    "\n",
    "* same for rotation!"
   ]
  },
  {
   "cell_type": "code",
   "execution_count": null,
   "metadata": {
    "slideshow": {
     "slide_type": "skip"
    }
   },
   "outputs": [],
   "source": [
    "%config InlineBackend.figure_formats = ['svg']"
   ]
  },
  {
   "cell_type": "code",
   "execution_count": null,
   "metadata": {
    "slideshow": {
     "slide_type": "skip"
    }
   },
   "outputs": [],
   "source": [
    "import matplotlib.pyplot as plt\n",
    "import numpy as np\n",
    "import splines\n",
    "from euclidean_helper import plot_spline_1d, plot_slopes_1d, grid_lines\n",
    "from euclidean_helper import plot_spline_2d, plot_tangents_2d, plot_tangent_2d"
   ]
  },
  {
   "cell_type": "markdown",
   "metadata": {
    "slideshow": {
     "slide_type": "subslide"
    }
   },
   "source": [
    "### Example Trajectory"
   ]
  },
  {
   "cell_type": "code",
   "execution_count": null,
   "metadata": {},
   "outputs": [],
   "source": [
    "vertices = [\n",
    "    (-2, -1),\n",
    "    (-2, 0),\n",
    "    (-0.1, 1.5),\n",
    "    (0.1, 1.5),\n",
    "    (2, 0),\n",
    "    (3, 1),\n",
    "]"
   ]
  },
  {
   "cell_type": "code",
   "execution_count": null,
   "metadata": {
    "slideshow": {
     "slide_type": "skip"
    }
   },
   "outputs": [],
   "source": [
    "def plot_constant_speed_spline(vertices, dots_per_second=4):\n",
    "    plot_spline_2d(\n",
    "        splines.UnitSpeedAdapter(splines.CatmullRom(vertices, alpha=0.5)),\n",
    "        dots_per_second=dots_per_second)"
   ]
  },
  {
   "cell_type": "code",
   "execution_count": null,
   "metadata": {},
   "outputs": [],
   "source": [
    "plot_constant_speed_spline(vertices)"
   ]
  },
  {
   "cell_type": "markdown",
   "metadata": {},
   "source": [
    "* many systems use linear interpolation, but smooth movement is nicer\n",
    "* cubic splines are a good trade-off between flexibility and simplicity"
   ]
  },
  {
   "cell_type": "markdown",
   "metadata": {
    "slideshow": {
     "slide_type": "subslide"
    }
   },
   "source": [
    "### Cubic Polynomial Curves (one-dimensional)\n",
    "\n",
    "\\begin{equation*}\n",
    "\\boldsymbol{p}_i(t) = \\boldsymbol{d}_i t^3 + \\boldsymbol{c}_i t^2 + \\boldsymbol{b}_i t + \\boldsymbol{a}_i\n",
    "\\end{equation*}"
   ]
  },
  {
   "cell_type": "code",
   "execution_count": null,
   "metadata": {
    "scrolled": true,
    "slideshow": {
     "slide_type": "skip"
    }
   },
   "outputs": [],
   "source": [
    "def plot_slopes(s):\n",
    "    grid = s.grid\n",
    "    plot_slopes_1d(s.evaluate(grid, 1), s.evaluate(grid), grid, scale=2)"
   ]
  },
  {
   "cell_type": "code",
   "execution_count": null,
   "metadata": {},
   "outputs": [],
   "source": [
    "s_x = splines.Monomial([[-1.5, 0, 1.5, 0]])\n",
    "s_y = splines.Monomial([[2.75, -4.5, 0.75, 1]])"
   ]
  },
  {
   "cell_type": "code",
   "execution_count": null,
   "metadata": {},
   "outputs": [],
   "source": [
    "plot_spline_1d(s_x); plot_slopes(s_x)\n",
    "plot_spline_1d(s_y); plot_slopes(s_y)\n",
    "plt.xlabel('t')\n",
    "grid_lines([0, 1]); plt.ylim([-0.1, 1.5]);"
   ]
  },
  {
   "cell_type": "markdown",
   "metadata": {
    "slideshow": {
     "slide_type": "subslide"
    }
   },
   "source": [
    "### Cubic Polynomial Curves (two-dimensional)\n",
    "\n",
    "\\begin{equation*}\n",
    "\\boldsymbol{p}_i(t) = \\boldsymbol{d}_i t^3 + \\boldsymbol{c}_i t^2 + \\boldsymbol{b}_i t + \\boldsymbol{a}_i\n",
    "\\end{equation*}"
   ]
  },
  {
   "cell_type": "code",
   "execution_count": null,
   "metadata": {},
   "outputs": [],
   "source": [
    "s1 = splines.Monomial([[[-1.5, 2.75], [0, -4.5], [1.5, 0.75], [0, 1]]])"
   ]
  },
  {
   "cell_type": "code",
   "execution_count": null,
   "metadata": {
    "slideshow": {
     "slide_type": "skip"
    }
   },
   "outputs": [],
   "source": [
    "def plot_tangents(s):\n",
    "    plot_tangents_2d(s.evaluate(s.grid, 1), s.evaluate(s.grid))"
   ]
  },
  {
   "cell_type": "code",
   "execution_count": null,
   "metadata": {},
   "outputs": [],
   "source": [
    "plot_spline_2d(s1, chords=False)\n",
    "plot_tangents(s1)"
   ]
  },
  {
   "cell_type": "markdown",
   "metadata": {},
   "source": [
    "This also works for 3D and higher dimensions."
   ]
  },
  {
   "cell_type": "markdown",
   "metadata": {
    "slideshow": {
     "slide_type": "subslide"
    }
   },
   "source": [
    "### Calculating Coefficients from Positions & Slopes\n",
    "\n",
    "\\begin{equation*}\n",
    "\\boldsymbol{p}_i(t) =\n",
    "\\left[\\begin{matrix}t^{3} & t^{2} & t & 1\\end{matrix}\\right]\n",
    "\\left[\\begin{matrix}2 & -2 & 1 & 1\\\\-3 & 3 & -2 & -1\\\\0 & 0 & 1 & 0\\\\1 & 0 & 0 & 0\\end{matrix}\\right]\n",
    "\\left[\\begin{matrix}\\boldsymbol{x}_{i}\\\\\\boldsymbol{x}_{i+1}\\\\\\boldsymbol{\\dot{x}}_{i}\\\\\\boldsymbol{\\dot{x}}_{i+1}\\end{matrix}\\right]\n",
    "\\end{equation*}"
   ]
  },
  {
   "cell_type": "markdown",
   "metadata": {
    "slideshow": {
     "slide_type": "subslide"
    }
   },
   "source": [
    "### Smoothly Connecting Segments\n",
    "\n",
    "* uniform Catmull–Rom splines\n",
    "  (based on quadratic Lagrange interpolation and linear blending)\n",
    "* between segments: incoming tangent equals outgoing tangent\n",
    "* simple tangent equation:\n",
    "\n",
    "  \\begin{equation*}\n",
    "  \\boldsymbol{\\dot{x}}_i = \\frac{\\boldsymbol{x}_{i+1} - \\boldsymbol{x}_{i-1}}{2}\n",
    "  \\end{equation*}"
   ]
  },
  {
   "cell_type": "code",
   "execution_count": null,
   "metadata": {
    "slideshow": {
     "slide_type": "skip"
    }
   },
   "outputs": [],
   "source": [
    "def plot_cr_tangent():\n",
    "    points1 = [\n",
    "        (-1, -0.5),\n",
    "        (0, 2.3),\n",
    "        (1, 1),\n",
    "        (4, 1.3),\n",
    "        (3.8, -0.2),\n",
    "        (2.5, 0.1),\n",
    "    ]\n",
    "    idx = 2\n",
    "    s1 = splines.CatmullRom(points1, endconditions='closed')\n",
    "    plot_spline_2d(s1)\n",
    "    plot_tangent_2d(\n",
    "        s1.evaluate(s1.grid[idx], 1),\n",
    "        s1.evaluate(s1.grid[idx]), color='purple')\n",
    "    plt.plot(\n",
    "        *s1.evaluate([s1.grid[idx - 1], s1.grid[idx + 1]]).T,\n",
    "        '--', color='purple', linewidth=2)"
   ]
  },
  {
   "cell_type": "code",
   "execution_count": null,
   "metadata": {
    "scrolled": true
   },
   "outputs": [],
   "source": [
    "plot_cr_tangent()"
   ]
  },
  {
   "cell_type": "markdown",
   "metadata": {
    "slideshow": {
     "slide_type": "subslide"
    }
   },
   "source": [
    "### Cusps, Self-Intersections\n",
    "\n",
    "* uniform parameter intervals (for each segment from 0 to 1)"
   ]
  },
  {
   "cell_type": "code",
   "execution_count": null,
   "metadata": {},
   "outputs": [],
   "source": [
    "plot_spline_2d(splines.CatmullRom(vertices))"
   ]
  },
  {
   "cell_type": "markdown",
   "metadata": {
    "slideshow": {
     "slide_type": "subslide"
    }
   },
   "source": [
    "### Non-Uniform Splines\n",
    "\n",
    "* arbitrary parameter interval for each segment\n",
    "\n",
    "* tangent equation for uniform Catmull–Rom spline:\n",
    "\n",
    "  \\begin{equation*}\n",
    "  \\boldsymbol{\\dot{x}}_i = \\frac{\\boldsymbol{x}_{i+1} - \\boldsymbol{x}_{i-1}}{2}\n",
    "  \\end{equation*}\n",
    "  \n",
    "* tangent equation for non-uniform Catmull–Rom spline:\n",
    "\n",
    "  \\begin{equation*}\n",
    "  \\boldsymbol{\\dot{x}}_i =\n",
    "  \\frac{\n",
    "  (t_{i+1} - t_i) (\\boldsymbol{x}_i - \\boldsymbol{x}_{i-1})\n",
    "  }{\n",
    "  (t_i - t_{i-1})(t_{i+1} - t_{i-1})\n",
    "  }\n",
    "  +\n",
    "  \\frac{\n",
    "  (t_i - t_{i-1}) (\\boldsymbol{x}_{i+1} - \\boldsymbol{x}_i)\n",
    "  }{\n",
    "  (t_{i+1} - t_i)(t_{i+1} - t_{i-1})\n",
    "  }\n",
    "  \\end{equation*}"
   ]
  },
  {
   "cell_type": "markdown",
   "metadata": {
    "slideshow": {
     "slide_type": "subslide"
    }
   },
   "source": [
    "### Centripetal Parameterization\n",
    "\n",
    "* parameter interval is chosen to be the Euclidean distance between start and end of segment"
   ]
  },
  {
   "cell_type": "code",
   "execution_count": null,
   "metadata": {
    "scrolled": true
   },
   "outputs": [],
   "source": [
    "plot_spline_2d(splines.CatmullRom(vertices, alpha=0.5))"
   ]
  },
  {
   "cell_type": "markdown",
   "metadata": {
    "slideshow": {
     "slide_type": "subslide"
    }
   },
   "source": [
    "### Arc-Length Parameterization\n",
    "\n",
    "* so far: good shape, but the timing is not really controllable.\n",
    "\n",
    "* therefore: re-parameterization\n",
    "  (creating a new parameter that's then mapped back to the original parameter)\n",
    "\n",
    "  \\begin{equation*}\n",
    "  \\boldsymbol{x}_\\text{arc}(s) = \\boldsymbol{x}(t(s))\n",
    "  \\end{equation*}\n",
    "\n",
    "* arc-length parameterization $\\to$ unit speed\n",
    "\n",
    "  \\begin{equation*}\n",
    "  s(t) = \\int\\limits_{t_0}^t \\left| \\frac{d}{d\\tau}\\boldsymbol{x}(\\tau) \\right| d\\tau\n",
    "  \\end{equation*}\n",
    "\n",
    "* no analytic solution\n",
    "\n",
    "* numerical integration, then find the inverse function with the bisection method"
   ]
  },
  {
   "cell_type": "markdown",
   "metadata": {
    "slideshow": {
     "slide_type": "subslide"
    }
   },
   "source": [
    "### Arc-Length Parameterized Centripetal Catmull–Rom spline"
   ]
  },
  {
   "cell_type": "code",
   "execution_count": null,
   "metadata": {},
   "outputs": [],
   "source": [
    "plot_spline_2d(splines.UnitSpeedAdapter(splines.CatmullRom(vertices, alpha=0.5)))"
   ]
  },
  {
   "cell_type": "markdown",
   "metadata": {
    "slideshow": {
     "slide_type": "subslide"
    }
   },
   "source": [
    "### More Re-Parameterization\n",
    "\n",
    "* constant speed is a good default, but more control would be good\n",
    "* therefore: another level of re-parameterization\n",
    "  based on [monotone splines](https://splines.readthedocs.io/en/0.3.1/euclidean/piecewise-monotone.html)\n",
    "* time instants can be specified for any vertex\n",
    "* speed (in m/s) can be specified (but with limits, to ensure monotonicity)"
   ]
  },
  {
   "cell_type": "code",
   "execution_count": null,
   "metadata": {
    "scrolled": true
   },
   "outputs": [],
   "source": [
    "plot_spline_2d(\n",
    "    splines.NewGridAdapter(\n",
    "        splines.UnitSpeedAdapter(splines.CatmullRom(vertices, alpha=0.5)),\n",
    "        [0, None, None, None, 3, 5]))"
   ]
  },
  {
   "cell_type": "markdown",
   "metadata": {
    "slideshow": {
     "slide_type": "slide"
    },
    "tags": []
   },
   "source": [
    "## Rotation Splines"
   ]
  },
  {
   "cell_type": "markdown",
   "metadata": {},
   "source": [
    "Goal: use same techniques as in the Euclidean case:\n",
    "\n",
    "* cubic splines (Catmull–Rom/Kochanek–Bartels)\n",
    "* non-uniform, centripetal\n",
    "* constant speed re-parameterization\n",
    "* monotone spline re-parameterization"
   ]
  },
  {
   "cell_type": "markdown",
   "metadata": {
    "slideshow": {
     "slide_type": "subslide"
    },
    "tags": []
   },
   "source": [
    "### (Unit) Quaternions\n",
    "\n",
    "quaternions:\n",
    "\n",
    "* 4-dimensional space\n",
    "* 4 components, \"scalar\" and \"vector\" parts:\n",
    "  \\begin{equation*}\n",
    "  q = (w, \\vec{v}) = (w, (x, y, z))\n",
    "  \\end{equation*}\n",
    "* multiplication is non-commutative"
   ]
  },
  {
   "cell_type": "markdown",
   "metadata": {
    "slideshow": {
     "slide_type": "fragment"
    },
    "tags": []
   },
   "source": [
    "unit quaternions:\n",
    "\n",
    "* all quaternions with length 1 $\\to$ unit hypersphere $S^3$\n",
    "* can be used to describe rotations (with \"double cover\")"
   ]
  },
  {
   "cell_type": "markdown",
   "metadata": {
    "slideshow": {
     "slide_type": "subslide"
    },
    "tags": []
   },
   "source": [
    "### Unit Quaternions as Rotations\n",
    "\n",
    "\\begin{equation*}\n",
    "q = \\left(\\cos \\frac{\\alpha}{2}, \\vec{n} \\sin \\frac{\\alpha}{2}\\right)\n",
    "\\end{equation*}"
   ]
  },
  {
   "cell_type": "code",
   "execution_count": null,
   "metadata": {
    "slideshow": {
     "slide_type": "skip"
    },
    "tags": []
   },
   "outputs": [],
   "source": [
    "from quaternion_helper import angles2quat, plot_rotation, animate_rotations, display_animation"
   ]
  },
  {
   "cell_type": "code",
   "execution_count": null,
   "metadata": {
    "slideshow": {
     "slide_type": "fragment"
    },
    "tags": []
   },
   "outputs": [],
   "source": [
    "identity = angles2quat(0, 0, 0)\n",
    "identity"
   ]
  },
  {
   "cell_type": "code",
   "execution_count": null,
   "metadata": {
    "slideshow": {
     "slide_type": "fragment"
    },
    "tags": []
   },
   "outputs": [],
   "source": [
    "a = angles2quat(90, 0, 0)\n",
    "b = angles2quat(0, 35, 0)\n",
    "c = angles2quat(0, 0, 45)"
   ]
  },
  {
   "cell_type": "code",
   "execution_count": null,
   "metadata": {
    "slideshow": {
     "slide_type": "fragment"
    },
    "tags": []
   },
   "outputs": [],
   "source": [
    "plot_rotation({\n",
    "    'identity = 1': identity,\n",
    "    '$a$': a,\n",
    "    '$b$': b,\n",
    "    '$c$': c,\n",
    "});"
   ]
  },
  {
   "cell_type": "markdown",
   "metadata": {
    "slideshow": {
     "slide_type": "subslide"
    },
    "tags": []
   },
   "source": [
    "## Quaternion Multiplication\n",
    "\n",
    "non-commutative:\n",
    "\n",
    "\\begin{equation*}\n",
    "q_m q_n \\ne q_n q_m\n",
    "\\end{equation*}"
   ]
  },
  {
   "cell_type": "code",
   "execution_count": null,
   "metadata": {
    "slideshow": {
     "slide_type": ""
    },
    "tags": []
   },
   "outputs": [],
   "source": [
    "plot_rotation({'$ab$': a * b, '$ba$': b * a});"
   ]
  },
  {
   "cell_type": "markdown",
   "metadata": {
    "slideshow": {
     "slide_type": "subslide"
    },
    "tags": []
   },
   "source": [
    "## Quaternion Multiplication\n",
    "\n",
    "associative:\n",
    "\n",
    "\\begin{equation*}\n",
    "(q_1 q_2) q_3 = q_1 (q_2 q_3)\n",
    "\\end{equation*}"
   ]
  },
  {
   "cell_type": "code",
   "execution_count": null,
   "metadata": {
    "slideshow": {
     "slide_type": ""
    },
    "tags": []
   },
   "outputs": [],
   "source": [
    "plot_rotation({'$(bc)a$': (b * c) * a, '$b(ca)$': b * (c * a)});"
   ]
  },
  {
   "cell_type": "markdown",
   "metadata": {
    "slideshow": {
     "slide_type": "subslide"
    },
    "tags": []
   },
   "source": [
    "## Inverse\n",
    "\n",
    "written as: $q^{-1}$"
   ]
  },
  {
   "cell_type": "code",
   "execution_count": null,
   "metadata": {
    "slideshow": {
     "slide_type": ""
    },
    "tags": []
   },
   "outputs": [],
   "source": [
    "plot_rotation({'$b$': b, '$b^{-1}$': b.inverse()});"
   ]
  },
  {
   "cell_type": "markdown",
   "metadata": {
    "slideshow": {
     "slide_type": "fragment"
    },
    "tags": []
   },
   "source": [
    "\\begin{equation*}\n",
    "q q^{-1} = q^{-1} q = \\boldsymbol{1}\n",
    "\\end{equation*}"
   ]
  },
  {
   "cell_type": "markdown",
   "metadata": {
    "slideshow": {
     "slide_type": "fragment"
    },
    "tags": []
   },
   "source": [
    "for unit quaternions: $q^{-1} = \\overline{q}$"
   ]
  },
  {
   "cell_type": "markdown",
   "metadata": {
    "slideshow": {
     "slide_type": "fragment"
    },
    "tags": []
   },
   "source": [
    "\\begin{equation*}\n",
    "\\overline{q}\n",
    "= \\left(w, -\\vec{v}\\right)\n",
    "= \\left(\\cos \\frac{\\alpha}{2}, -\\vec{n} \\sin \\frac{\\alpha}{2}\\right)\n",
    "= \\left(\\cos \\frac{-\\alpha}{2}, \\vec{n} \\sin \\frac{-\\alpha}{2}\\right)\n",
    "\\end{equation*}"
   ]
  },
  {
   "cell_type": "markdown",
   "metadata": {
    "slideshow": {
     "slide_type": "subslide"
    },
    "tags": []
   },
   "source": [
    "## Exponentiation (integer exponents)"
   ]
  },
  {
   "cell_type": "code",
   "execution_count": null,
   "metadata": {
    "slideshow": {
     "slide_type": ""
    },
    "tags": []
   },
   "outputs": [],
   "source": [
    "plot_rotation({\n",
    "    '$a^0 = 1$': a**0,\n",
    "    '$a^1 = a$': a**1,\n",
    "    '$a^2 = aa$': a**2,\n",
    "    '$a^3 = aaa$': a**3,\n",
    "});"
   ]
  },
  {
   "cell_type": "markdown",
   "metadata": {
    "slideshow": {
     "slide_type": "subslide"
    },
    "tags": []
   },
   "source": [
    "## Exponentiation (real exponents)"
   ]
  },
  {
   "cell_type": "code",
   "execution_count": null,
   "metadata": {
    "slideshow": {
     "slide_type": ""
    },
    "tags": []
   },
   "outputs": [],
   "source": [
    "plot_rotation({\n",
    "    '$a^1 = a$': a**1,\n",
    "    '$a^{0.5}$': a**0.5,\n",
    "    '$a^0 = 1$': a**0,\n",
    "    '$a^{-0.5}$': a**-0.5,\n",
    "});"
   ]
  },
  {
   "cell_type": "markdown",
   "metadata": {
    "slideshow": {
     "slide_type": ""
    },
    "tags": []
   },
   "source": [
    "\\begin{equation*}\n",
    "q^k = \\left(\\cos \\frac{k\\alpha}{2}, \\vec{n} \\sin \\frac{k\\alpha}{2}\\right)\n",
    "\\end{equation*}"
   ]
  },
  {
   "cell_type": "markdown",
   "metadata": {
    "slideshow": {
     "slide_type": "subslide"
    },
    "tags": []
   },
   "source": [
    "## Negation"
   ]
  },
  {
   "cell_type": "code",
   "execution_count": null,
   "metadata": {
    "slideshow": {
     "slide_type": ""
    },
    "tags": []
   },
   "outputs": [],
   "source": [
    "plot_rotation({'$c$': c, '$-c$': -c});"
   ]
  },
  {
   "cell_type": "markdown",
   "metadata": {
    "slideshow": {
     "slide_type": ""
    },
    "tags": []
   },
   "source": [
    "\\begin{equation*}\n",
    "-q\n",
    "= \\left(-w, -\\vec{v}\\right)\n",
    "= \\left(\n",
    "\\cos \\frac{\\alpha + 2 \\pi}{2},\n",
    "\\vec{n} \\sin \\frac{\\alpha + 2 \\pi}{2}\n",
    "\\right)\n",
    "\\end{equation*}"
   ]
  },
  {
   "cell_type": "markdown",
   "metadata": {
    "slideshow": {
     "slide_type": "subslide"
    }
   },
   "source": [
    "### How To Interpolate Unit Quaternions?\n",
    "\n",
    "* polynomials in a curved space?\n",
    "\n",
    "* use De Casteljau's algorithm with [spherical linear interpolation (Slerp)](https://splines.readthedocs.io/en/0.3.1/rotation/slerp.html)\n",
    "  * see the following slides\n",
    "\n",
    "  \\begin{equation*}\n",
    "  \\operatorname{Slerp}(q_0, q_1; t) = \\left(q_1 {q_0}^{-1}\\right)^t \\, q_0\n",
    "  \\end{equation*}"
   ]
  },
  {
   "cell_type": "markdown",
   "metadata": {
    "slideshow": {
     "slide_type": "subslide"
    }
   },
   "source": [
    "### Slerp Animation"
   ]
  },
  {
   "cell_type": "code",
   "execution_count": null,
   "metadata": {
    "slideshow": {
     "slide_type": "skip"
    }
   },
   "outputs": [],
   "source": [
    "from splines.quaternion import slerp"
   ]
  },
  {
   "cell_type": "code",
   "execution_count": null,
   "metadata": {},
   "outputs": [],
   "source": [
    "q1 = angles2quat(45, -20, -60)\n",
    "q2 = angles2quat(-45, 20, 30)"
   ]
  },
  {
   "cell_type": "code",
   "execution_count": null,
   "metadata": {
    "slideshow": {
     "slide_type": "skip"
    }
   },
   "outputs": [],
   "source": [
    "ani_times = np.linspace(0, 1, 100)\n",
    "slerp_ani = animate_rotations({\n",
    "    'slerp(q1, q2)': slerp(q1, q2, ani_times),\n",
    "    'slerp(q1, -q2)': slerp(q1, -q2, ani_times),\n",
    "})"
   ]
  },
  {
   "cell_type": "code",
   "execution_count": null,
   "metadata": {},
   "outputs": [],
   "source": [
    "display_animation(slerp_ani, default_mode='reflect')"
   ]
  },
  {
   "cell_type": "markdown",
   "metadata": {
    "slideshow": {
     "slide_type": "subslide"
    }
   },
   "source": [
    "### Using Lines to Construct Curves: De Casteljau's Algorithm\n",
    "\n",
    "* control points at $\\frac{1}{3}$ of the tangent vectors\n",
    "* $\\boldsymbol{x}_0$, $\\boldsymbol{\\tilde{x}}_0$,\n",
    "  $\\boldsymbol{\\tilde{x}}_1$, $\\boldsymbol{x}_1$:\n",
    "  * 4 control points of a *cubic Bézier curve*"
   ]
  },
  {
   "cell_type": "code",
   "execution_count": null,
   "metadata": {
    "slideshow": {
     "slide_type": "skip"
    }
   },
   "outputs": [],
   "source": [
    "def plot_control_points(s):\n",
    "    a = s.evaluate(0) + s.evaluate(0, 1) / 3\n",
    "    b = s.evaluate(1) - s.evaluate(1, 1) / 3\n",
    "    plt.scatter(*np.column_stack([a, b]), marker='X', color='black')\n",
    "    plt.annotate(r'$\\boldsymbol{x}_0$', s.evaluate(0) + [0, 0.1])\n",
    "    plt.annotate(r'$\\tilde{\\boldsymbol{x}}_0$', a + [0, 0.1])\n",
    "    plt.annotate(r'$\\tilde{\\boldsymbol{x}}_1$', b + [0, 0.1])\n",
    "    plt.annotate(r'$\\boldsymbol{x}_1$', s.evaluate(1) + [0, 0.1]);"
   ]
  },
  {
   "cell_type": "code",
   "execution_count": null,
   "metadata": {},
   "outputs": [],
   "source": [
    "plot_spline_2d(s1, chords=False)\n",
    "plot_tangents(s1)\n",
    "plot_control_points(s1)"
   ]
  },
  {
   "cell_type": "markdown",
   "metadata": {
    "slideshow": {
     "slide_type": "subslide"
    }
   },
   "source": [
    "### De Casteljau's Algorithm, Animated"
   ]
  },
  {
   "cell_type": "code",
   "execution_count": null,
   "metadata": {
    "slideshow": {
     "slide_type": "skip"
    }
   },
   "outputs": [],
   "source": [
    "from casteljau import create_animation\n",
    "\n",
    "def show_casteljau_animation(points, frames=30, interval=200):\n",
    "    ani = create_animation(points, frames=frames, interval=interval)\n",
    "    display({\n",
    "        'text/html': ani.to_jshtml(default_mode='reflect'),\n",
    "    }, raw=True)\n",
    "    plt.close()  # avoid spurious figure display"
   ]
  },
  {
   "cell_type": "code",
   "execution_count": null,
   "metadata": {},
   "outputs": [],
   "source": [
    "show_casteljau_animation([(0, 1), (0.5, 1.25), (1, 0), (0, 0)])"
   ]
  },
  {
   "cell_type": "markdown",
   "metadata": {
    "slideshow": {
     "slide_type": ""
    },
    "tags": []
   },
   "source": [
    "For rotations: replace linear interpolations with Slerp!"
   ]
  },
  {
   "cell_type": "markdown",
   "metadata": {
    "slideshow": {
     "slide_type": "subslide"
    }
   },
   "source": [
    "### Joining Tangents\n",
    "\n",
    "Goal: find the missing Bézier control points\n",
    "using Catmull–Rom tangents.\n",
    "\n",
    "Based on the non-uniform\n",
    "[equations for the Euclidean case](https://splines.readthedocs.io/en/0.3.1/euclidean/catmull-rom-non-uniform.html#Using-Non-Uniform-Bézier-Segments),\n",
    "we are trying to come up with\n",
    "[equations for rotations using unit quaternions](https://splines.readthedocs.io/en/0.3.1/rotation/catmull-rom-non-uniform.html)\n",
    "(see next slide)."
   ]
  },
  {
   "cell_type": "markdown",
   "metadata": {
    "slideshow": {
     "slide_type": "subslide"
    }
   },
   "source": [
    "\\begin{align*}\n",
    "\\boldsymbol{v}_i &= \\frac{\n",
    "\\boldsymbol{x}_{i+1} - \\boldsymbol{x}_i\n",
    "}{\n",
    "t_{i+1} - t_i\n",
    "}\n",
    "\\\\\n",
    "\\boldsymbol{\\dot{x}}_i\n",
    "&= \\frac{\n",
    "(t_{i+1} - t_i) \\, \\boldsymbol{v}_{i-1} + (t_i - t_{i-1}) \\, \\boldsymbol{v}_i\n",
    "}{\n",
    "t_{i+1} - t_{i-1}\n",
    "}\n",
    "\\\\\n",
    "\\boldsymbol{\\tilde{x}}_i^{(+)}\n",
    "&= \\boldsymbol{x}_i + \\frac{(t_{i+1} - t_i) \\, \\boldsymbol{\\dot{x}}_i}{3}\n",
    "\\\\\n",
    "\\boldsymbol{\\tilde{x}}_i^{(-)}\n",
    "&= \\boldsymbol{x}_i - \\frac{(t_i - t_{i-1}) \\, \\boldsymbol{\\dot{x}}_i}{3}\n",
    "\\end{align*}\n",
    "\n",
    "----\n",
    "\n",
    "\\begin{align*}\n",
    "\\vec{\\rho}_{i} &= \\frac{\\ln(q_{i+1} {q_i}^{-1})}{t_{i+1} - t_i}\n",
    "\\\\\n",
    "\\vec{\\omega}_i &=\n",
    "\\frac{\n",
    "(t_{i+1} - t_i) \\, \\vec{\\rho}_{i-1} +\n",
    "(t_i - t_{i-1}) \\, \\vec{\\rho}_{i}\n",
    "}{\n",
    "t_{i+1} - t_{i-1}\n",
    "}\n",
    "\\\\\n",
    "\\tilde{q}_i^{(+)}\n",
    "&=\n",
    "\\exp\\left(\\frac{t_{i+1} - t_i}{3} \\, \\vec{\\omega}_i\\right) \\, q_i\n",
    "\\\\\n",
    "\\tilde{q}_i^{(-)}\n",
    "&=\n",
    "\\exp\\left(\\frac{t_i - t_{i-1}}{3} \\, \\vec{\\omega}_i\\right)^{-1} \\, q_i\n",
    "\\end{align*}"
   ]
  },
  {
   "cell_type": "markdown",
   "metadata": {
    "slideshow": {
     "slide_type": "subslide"
    }
   },
   "source": [
    "### Rotation Splines, Summary\n",
    "\n",
    "Goal: use same techniques as in the Euclidean case:\n",
    "\n",
    "* cubic splines (Catmull–Rom/Kochanek–Bartels)\n",
    "  * De Casteljaus's algorithm with Slerp\n",
    "* non-uniform, centripetal\n",
    "  * similar to Euclidean case\n",
    "* constant speed re-parameterization\n",
    "  * de Casteljau's algorithm provides first derivative (angular velocity)\n",
    "  * `splines.UnitSpeedAdapter`\n",
    "* monotone spline re-parameterization\n",
    "  * `splines.NewGridAdapter`"
   ]
  },
  {
   "cell_type": "markdown",
   "metadata": {
    "slideshow": {
     "slide_type": "slide"
    }
   },
   "source": [
    "## Integration of the ASDF Library\n",
    "\n",
    "* stand-alone spatialization app\n",
    "  * SoundScape Renderer\n",
    "  * integration with JACK transport\n",
    "  \n",
    "* plugin for multimedia framework\n",
    "  * Pure Data (https://puredata.info/)\n",
    "  * `asdf~`"
   ]
  },
  {
   "cell_type": "markdown",
   "metadata": {
    "slideshow": {
     "slide_type": "subslide"
    }
   },
   "source": [
    "### Software and Documentation\n",
    "\n",
    "* ASDF spec with examples: https://github.com/AudioSceneDescriptionFormat/asdf\n",
    "* ASDF library: https://github.com/AudioSceneDescriptionFormat/asdf-rust\n",
    "  * implemented in Rust (providing C language bindings)\n",
    "  * incl. external for Pure Data: `asdf~` (implemented in C)\n",
    "* Splines documentation: https://splines.readthedocs.io/\n",
    "  * incl. Python module: `splines`\n",
    "* Splines library: https://github.com/AudioSceneDescriptionFormat/asdfspline-rust\n",
    "  * implemented in Rust (providing Python language bindings)\n",
    "* SoundScape Renderer (incl. ASDF support): https://github.com/SoundScapeRenderer/ssr\n",
    "* Thesis: https://github.com/mgeier/diss\n",
    "* Slides: https://github.com/mgeier/defense\n",
    "\n",
    "Everything is Open Source!"
   ]
  }
 ],
 "metadata": {
  "celltoolbar": "Slideshow",
  "kernelspec": {
   "display_name": "Python 3 (ipykernel)",
   "language": "python",
   "name": "python3"
  },
  "language_info": {
   "codemirror_mode": {
    "name": "ipython",
    "version": 3
   },
   "file_extension": ".py",
   "mimetype": "text/x-python",
   "name": "python",
   "nbconvert_exporter": "python",
   "pygments_lexer": "ipython3",
   "version": "3.11.6"
  },
  "livereveal": {
   "autolaunch": true
  }
 },
 "nbformat": 4,
 "nbformat_minor": 4
}
