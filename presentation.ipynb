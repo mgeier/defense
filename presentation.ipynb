{
 "cells": [
  {
   "cell_type": "markdown",
   "metadata": {
    "slideshow": {
     "slide_type": "skip"
    }
   },
   "source": [
    "This [Jupyter notebook](https://jupyter.org/)\n",
    "is meant to be viewed in \"slide mode\".\n",
    "\n",
    "If you want to view the slides locally\n",
    "(with notebook version < 7),\n",
    "you'll need to install [RISE](https://rise.readthedocs.io/).\n",
    "With notebook version 7 and above,\n",
    "and with JupyterLab,\n",
    "you can try the [`jupyterlab_rise`](https://github.com/jupyterlab-contrib/rise) extension."
   ]
  },
  {
   "cell_type": "markdown",
   "metadata": {
    "slideshow": {
     "slide_type": "slide"
    },
    "tags": []
   },
   "source": [
    "# Describing Three-Dimensional Movements in an Audio Scene Authoring Format\n",
    "\n",
    "Matthias Geier\n",
    "\n",
    "March 4<sup>th</sup>, 2024\n",
    "\n",
    "Thesis:\n",
    "[PDF](https://github.com/mgeier/diss/releases/download/initial-submission/Geier_Diss.pdf),\n",
    "[LaTeX sources](https://github.com/mgeier/diss)  \n",
    "Slides: https://github.com/mgeier/defense"
   ]
  },
  {
   "cell_type": "markdown",
   "metadata": {
    "slideshow": {
     "slide_type": "subslide"
    }
   },
   "source": [
    "### Spatial Audio Reproduction\n",
    "\n",
    "<img src=\"loudspeaker-array.jpg\" style=\"margin: 1em auto;\" />"
   ]
  },
  {
   "cell_type": "markdown",
   "metadata": {
    "slideshow": {
     "slide_type": "subslide"
    },
    "tags": []
   },
   "source": [
    "### Spatial Audio Reproduction\n",
    "\n",
    "* binaural\n",
    "* surround (5.1, 7.1, ..., 22.2)\n",
    "* VBAP\n",
    "* Ambisonics\n",
    "* WFS\n",
    "* ...\n",
    "\n",
    "problem with \"channel-based\" audio reproduction:\n",
    "\n",
    "* many output channels\n",
    "* heterogeneous setups\n",
    "\n",
    "solution:\n",
    "\n",
    "* \"object-based\" audio reproduction"
   ]
  },
  {
   "cell_type": "markdown",
   "metadata": {
    "slideshow": {
     "slide_type": "subslide"
    },
    "tags": []
   },
   "source": [
    "### Object-Based Audio Reproduction\n",
    "\n",
    "* sound sources (mono signals)\n",
    "* groups of sound sources\n",
    "* observer position\n",
    "* three-dimensional movement & trajectories\n",
    "  * translation\n",
    "  * rotation\n",
    "  * movements in local coordinate systems, which are moving themselves\n",
    "* dynamic volume control"
   ]
  },
  {
   "cell_type": "markdown",
   "metadata": {
    "slideshow": {
     "slide_type": "subslide"
    }
   },
   "source": [
    "### Demo (Browser GUI Prototype)\n",
    "\n",
    "<img src=\"browser-gui-screenshot.png\" style=\"margin: 1em auto;\" />"
   ]
  },
  {
   "cell_type": "markdown",
   "metadata": {
    "slideshow": {
     "slide_type": "slide"
    }
   },
   "source": [
    "### Classification of Object-Based Audio Formats\n",
    "\n",
    "* sampled data\n",
    "  * recorded audio data (e.g. sampled at 48000 Hz)\n",
    "  * motion tracking data (e.g. sampled at 30 Hz)\n",
    "* declarative\n",
    "  * parametric (sparse) description of trajectories\n",
    "  * synthesizer parameters\n",
    "* procedural\n",
    "  * script that creates position data in real time\n",
    "  * graphical multimedia \"patching\" environment"
   ]
  },
  {
   "cell_type": "markdown",
   "metadata": {
    "slideshow": {
     "slide_type": "subslide"
    }
   },
   "source": [
    "### Example: X3D\n",
    "\n",
    "a mix of categories within a single format:\n",
    "\n",
    "* sampled data\n",
    "  * source signals (conventional audio files) via `AudioClip` nodes\n",
    "* declarative\n",
    "  * trajectories (`PositionInterpolator`, `SplinePositionInterpolator`)\n",
    "* procedural\n",
    "  * animations via `Script` nodes"
   ]
  },
  {
   "cell_type": "markdown",
   "metadata": {
    "slideshow": {
     "slide_type": "subslide"
    }
   },
   "source": [
    "### Description of Movements in Existing Formats\n",
    "\n",
    "* sampled data\n",
    "  * SpatDIF, Spat-SDIF\n",
    "* **declarative**\n",
    "  * VRML, X3D, MPEG-4, Audio3D, XML3DAUDIO, ADM, TASCAR\n",
    "* procedural\n",
    "  * VRML, X3D, MPEG-4"
   ]
  },
  {
   "cell_type": "markdown",
   "metadata": {
    "slideshow": {
     "slide_type": "subslide"
    }
   },
   "source": [
    "### Interpolation of Positions and Orientations\n",
    "\n",
    "* Audio3D, XML3DAUDIO (?)\n",
    "  * linear interpolation for positions and orientations\n",
    "* ADM\n",
    "  * positions: linear; orientations: no interpolation\n",
    "* TASCAR\n",
    "  * positions: linear; orientations: Euler angles\n",
    "  ([doesn't work](https://splines.readthedocs.io/en/0.3.1/rotation/naive-euler-angles-interpolation.html))\n",
    "* VRML, MPEG-4\n",
    "  * `PositionInterpolator` (linear interpolation),\n",
    "    `OrientationInterpolator` (Slerp: spherical linear interpolation)\n",
    "* X3D\n",
    "  * `SplinePositionInterpolator` (Hermite & Catmull–Rom splines), `SquadOrientationInterpolator`"
   ]
  },
  {
   "cell_type": "code",
   "execution_count": null,
   "metadata": {
    "slideshow": {
     "slide_type": "skip"
    }
   },
   "outputs": [],
   "source": [
    "%config InlineBackend.figure_formats = ['svg']"
   ]
  },
  {
   "cell_type": "code",
   "execution_count": null,
   "metadata": {
    "slideshow": {
     "slide_type": "skip"
    }
   },
   "outputs": [],
   "source": [
    "import matplotlib.pyplot as plt\n",
    "import numpy as np\n",
    "import splines\n",
    "from euclidean_helper import plot_spline_1d, plot_slopes_1d, grid_lines\n",
    "from euclidean_helper import plot_tangents_2d, plot_tangent_2d"
   ]
  },
  {
   "cell_type": "code",
   "execution_count": null,
   "metadata": {
    "slideshow": {
     "slide_type": "skip"
    }
   },
   "outputs": [],
   "source": [
    "from euclidean_helper import plot_spline_2d as _plot_spline_2d\n",
    "\n",
    "def plot_spline_2d(*args, ax=None, **kwargs):\n",
    "    if ax is None:\n",
    "        ax = plt.gca()\n",
    "    _plot_spline_2d(*args, ax=ax, **kwargs)\n",
    "    ax.set_xlabel('x / m')\n",
    "    ax.set_ylabel('y / m')"
   ]
  },
  {
   "cell_type": "markdown",
   "metadata": {
    "slideshow": {
     "slide_type": "slide"
    }
   },
   "source": [
    "## Interpolation of Positions"
   ]
  },
  {
   "cell_type": "code",
   "execution_count": null,
   "metadata": {},
   "outputs": [],
   "source": [
    "vertices = [\n",
    "    (-2, -1),\n",
    "    (-2, 0),\n",
    "    (-0.1, 1.5),  # note: small distance from here ...\n",
    "    (0.1, 1.5),   # ... to here.\n",
    "    (2, 0),\n",
    "    (3, 1),\n",
    "]"
   ]
  },
  {
   "cell_type": "code",
   "execution_count": null,
   "metadata": {},
   "outputs": [],
   "source": [
    "times = 0, 1, 2, 4, 5, 6  # note: larger interval in the middle!"
   ]
  },
  {
   "cell_type": "code",
   "execution_count": null,
   "metadata": {},
   "outputs": [],
   "source": [
    "plot_spline_2d(splines.CatmullRom(vertices, grid=times))"
   ]
  },
  {
   "cell_type": "markdown",
   "metadata": {
    "slideshow": {
     "slide_type": "subslide"
    }
   },
   "source": [
    "### Centripetal Parameterization\n",
    "\n",
    "* parameter interval is chosen to be the Euclidean distance between start and end of segment"
   ]
  },
  {
   "cell_type": "code",
   "execution_count": null,
   "metadata": {
    "scrolled": false
   },
   "outputs": [],
   "source": [
    "plot_spline_2d(splines.CatmullRom(vertices, alpha=0.5))"
   ]
  },
  {
   "cell_type": "markdown",
   "metadata": {},
   "source": [
    "* curve shape only determined by vertices\n",
    "* no independent control over time/speed"
   ]
  },
  {
   "cell_type": "markdown",
   "metadata": {
    "slideshow": {
     "slide_type": "subslide"
    }
   },
   "source": [
    "### Arc-Length Parameterization\n",
    "\n",
    "* so far: good shape, but the timing is not controllable\n",
    "\n",
    "* therefore: re-parameterization\n",
    "\n",
    "  \\begin{equation*}\n",
    "  \\boldsymbol{x}_\\text{arc}(s) = \\boldsymbol{x}(t(s))\n",
    "  \\end{equation*}\n",
    "\n",
    "* arc-length parameterization $\\to$ unit speed\n",
    "\n",
    "  \\begin{equation*}\n",
    "  s(t) = \\int\\limits_{t_0}^t \\left| \\frac{d}{d\\tau}\\boldsymbol{x}(\\tau) \\right| d\\tau\n",
    "  \\end{equation*}\n",
    "\n",
    "* no analytic solution\n",
    "\n",
    "* numerical integration, then find the inverse function with, e.g., the bisection method"
   ]
  },
  {
   "cell_type": "markdown",
   "metadata": {
    "slideshow": {
     "slide_type": "subslide"
    }
   },
   "source": [
    "### Arc-Length Parameterized Centripetal Catmull–Rom spline"
   ]
  },
  {
   "cell_type": "code",
   "execution_count": null,
   "metadata": {},
   "outputs": [],
   "source": [
    "plot_spline_2d(splines.UnitSpeedAdapter(splines.CatmullRom(vertices, alpha=0.5)))"
   ]
  },
  {
   "cell_type": "markdown",
   "metadata": {
    "slideshow": {
     "slide_type": "subslide"
    }
   },
   "source": [
    "### More Re-Parameterization\n",
    "\n",
    "* constant speed is a good default, but more control is needed\n",
    "* therefore: another level of re-parameterization \n",
    "  based on [monotone splines](https://splines.readthedocs.io/en/0.3.1/euclidean/piecewise-monotone.html)\n",
    "* time instants can be specified for any vertex\n",
    "* speed (in m/s) can be specified (but with limits, to ensure monotonicity)"
   ]
  },
  {
   "cell_type": "code",
   "execution_count": null,
   "metadata": {
    "scrolled": true
   },
   "outputs": [],
   "source": [
    "plot_spline_2d(\n",
    "    splines.NewGridAdapter(\n",
    "        splines.UnitSpeedAdapter(splines.CatmullRom(vertices, alpha=0.5)),\n",
    "        times))"
   ]
  },
  {
   "cell_type": "markdown",
   "metadata": {
    "slideshow": {
     "slide_type": "subslide"
    }
   },
   "source": [
    "### Position Splines, Summary\n",
    "\n",
    "state of the art:\n",
    "\n",
    "* cubic splines (Hermite and Catmull–Rom)\n",
    "\n",
    "improvements:\n",
    "\n",
    "* centripetal parameterization for more predictable curve shape\n",
    "* re-parameterization for desired time/speed behavior\n",
    "  * unit speed re-parameterization\n",
    "  * monotone spline re-parameterization"
   ]
  },
  {
   "cell_type": "markdown",
   "metadata": {
    "slideshow": {
     "slide_type": "slide"
    }
   },
   "source": [
    "## Interpolation of Orientations\n",
    "\n",
    "state of the art, using\n",
    "[unit quaternions](https://splines.readthedocs.io/en/0.3.1/rotation/quaternions.html)\n",
    "to represent rotations:\n",
    "\n",
    "* VRML, MPEG-4\n",
    "  * `OrientationInterpolator` (Slerp: spherical linear interpolation)\n",
    "* X3D\n",
    "  * `SquadOrientationInterpolator` (Squad: spherical quadrangle interpolation)"
   ]
  },
  {
   "cell_type": "markdown",
   "metadata": {
    "slideshow": {
     "slide_type": "subslide"
    }
   },
   "source": [
    "### Representing Rotations With Unit Quaternions\n",
    "\n",
    "quaternions:\n",
    "\n",
    "* 4 components $\\to$ 4-dimensional space $\\mathbb{R}^4$\n",
    "* quaternion multiplication is non-commutative ($ab \\ne ba$)\n",
    "\n",
    "unit quaternions:\n",
    "\n",
    "* all quaternions with length 1 $\\to$ unit hypersphere $S^3$\n",
    "  * curved 3-dimensional space\n",
    "* can be used to describe rotations (with \"double cover\")\n",
    "* polynomials don't work\n",
    "* interpolation along great circles (a.k.a. \"Slerp\")"
   ]
  },
  {
   "cell_type": "code",
   "execution_count": null,
   "metadata": {
    "slideshow": {
     "slide_type": "skip"
    },
    "tags": []
   },
   "outputs": [],
   "source": [
    "from quaternion_helper import angles2quat, plot_rotation, animate_rotations, display_animation"
   ]
  },
  {
   "cell_type": "markdown",
   "metadata": {
    "slideshow": {
     "slide_type": "subslide"
    }
   },
   "source": [
    "### Piecewise Slerp"
   ]
  },
  {
   "cell_type": "code",
   "execution_count": null,
   "metadata": {
    "slideshow": {
     "slide_type": "-"
    }
   },
   "outputs": [],
   "source": [
    "rotations = [\n",
    "    angles2quat(0, 0, 180),\n",
    "    angles2quat(0, 45, 90),\n",
    "    angles2quat(90, 90, -80),\n",
    "    angles2quat(90, 90, -90),\n",
    "    angles2quat(-90, -45, 180),\n",
    "]\n",
    "times"
   ]
  },
  {
   "cell_type": "code",
   "execution_count": null,
   "metadata": {
    "slideshow": {
     "slide_type": "-"
    }
   },
   "outputs": [],
   "source": [
    "s_slerp = splines.quaternion.PiecewiseSlerp(\n",
    "    rotations,\n",
    "    grid=times,\n",
    "    closed=True)\n",
    "ani = animate_rotations(s_slerp.evaluate(\n",
    "    np.linspace(s_slerp.grid[0], s_slerp.grid[-1], 200, endpoint=False)))\n",
    "display_animation(ani, default_mode='loop')"
   ]
  },
  {
   "cell_type": "markdown",
   "metadata": {
    "slideshow": {
     "slide_type": "subslide"
    }
   },
   "source": [
    "### Using Lines to Construct Curves: De Casteljau's Algorithm\n",
    "\n",
    "* control points at $\\frac{1}{3}$ of the tangent vectors\n",
    "* $\\boldsymbol{x}_0$, $\\boldsymbol{\\tilde{x}}_0$,\n",
    "  $\\boldsymbol{\\tilde{x}}_1$, $\\boldsymbol{x}_1$:\n",
    "  * 4 control points of a *cubic Bézier curve*"
   ]
  },
  {
   "cell_type": "code",
   "execution_count": null,
   "metadata": {
    "slideshow": {
     "slide_type": "skip"
    }
   },
   "outputs": [],
   "source": [
    "s = splines.Monomial([[[-1.5, 2.75], [0, -4.5], [1.5, 0.75], [0, 1]]])"
   ]
  },
  {
   "cell_type": "code",
   "execution_count": null,
   "metadata": {
    "slideshow": {
     "slide_type": "skip"
    }
   },
   "outputs": [],
   "source": [
    "def plot_tangents(s):\n",
    "    plot_tangents_2d(s.evaluate(s.grid, 1), s.evaluate(s.grid))"
   ]
  },
  {
   "cell_type": "code",
   "execution_count": null,
   "metadata": {
    "slideshow": {
     "slide_type": "skip"
    }
   },
   "outputs": [],
   "source": [
    "def plot_control_points(s):\n",
    "    a = s.evaluate(0) + s.evaluate(0, 1) / 3\n",
    "    b = s.evaluate(1) - s.evaluate(1, 1) / 3\n",
    "    plt.scatter(*np.column_stack([a, b]), marker='x', color='black')\n",
    "    plt.annotate(r'$\\boldsymbol{x}_0$', s.evaluate(0) + [0, 0.1])\n",
    "    plt.annotate(r'$\\tilde{\\boldsymbol{x}}_0$', a + [0, 0.1])\n",
    "    plt.annotate(r'$\\tilde{\\boldsymbol{x}}_1$', b + [0, 0.1])\n",
    "    plt.annotate(r'$\\boldsymbol{x}_1$', s.evaluate(1) + [0, 0.1]);"
   ]
  },
  {
   "cell_type": "code",
   "execution_count": null,
   "metadata": {},
   "outputs": [],
   "source": [
    "plot_spline_2d(s, chords=False)\n",
    "plot_tangents(s)\n",
    "plot_control_points(s)"
   ]
  },
  {
   "cell_type": "markdown",
   "metadata": {
    "slideshow": {
     "slide_type": "subslide"
    }
   },
   "source": [
    "### De Casteljau's Algorithm, Animated"
   ]
  },
  {
   "cell_type": "code",
   "execution_count": null,
   "metadata": {
    "slideshow": {
     "slide_type": "skip"
    }
   },
   "outputs": [],
   "source": [
    "from casteljau import create_animation\n",
    "\n",
    "def show_casteljau_animation(points, frames=30, interval=200):\n",
    "    ani = create_animation(points, frames=frames, interval=interval)\n",
    "    display({\n",
    "        'text/html': ani.to_jshtml(default_mode='reflect'),\n",
    "    }, raw=True)\n",
    "    plt.close()  # avoid spurious figure display"
   ]
  },
  {
   "cell_type": "code",
   "execution_count": null,
   "metadata": {},
   "outputs": [],
   "source": [
    "show_casteljau_animation([(0, 1), (0.5, 1.25), (1, 0), (0, 0)])"
   ]
  },
  {
   "cell_type": "markdown",
   "metadata": {
    "slideshow": {
     "slide_type": ""
    },
    "tags": []
   },
   "source": [
    "For rotations: replace linear interpolations with Slerp!"
   ]
  },
  {
   "cell_type": "markdown",
   "metadata": {
    "slideshow": {
     "slide_type": "subslide"
    }
   },
   "source": [
    "### Catmull–Rom-like Rotation Spline"
   ]
  },
  {
   "cell_type": "code",
   "execution_count": null,
   "metadata": {
    "slideshow": {
     "slide_type": "-"
    }
   },
   "outputs": [],
   "source": [
    "s_cr = splines.quaternion.CatmullRom(\n",
    "    rotations,\n",
    "    grid=times,\n",
    "    endconditions='closed')\n",
    "ani = animate_rotations(s_cr.evaluate(np.linspace(s_cr.grid[0], s_cr.grid[-1], 200, endpoint=False)))\n",
    "display_animation(ani, default_mode='loop')"
   ]
  },
  {
   "cell_type": "markdown",
   "metadata": {},
   "source": [
    "Chosen time intervals affect curve shape!"
   ]
  },
  {
   "cell_type": "markdown",
   "metadata": {
    "slideshow": {
     "slide_type": "subslide"
    }
   },
   "source": [
    "### Centripetal Parameterization"
   ]
  },
  {
   "cell_type": "code",
   "execution_count": null,
   "metadata": {
    "slideshow": {
     "slide_type": "-"
    }
   },
   "outputs": [],
   "source": [
    "s = splines.quaternion.CatmullRom(\n",
    "    rotations,\n",
    "    alpha=0.5,\n",
    "    endconditions='closed')\n",
    "ani = animate_rotations(s.evaluate(np.linspace(s.grid[0], s.grid[-1], 200, endpoint=False)))\n",
    "display_animation(ani, default_mode='loop')"
   ]
  },
  {
   "cell_type": "markdown",
   "metadata": {
    "slideshow": {
     "slide_type": "subslide"
    }
   },
   "source": [
    "### Centripetal + Unit Speed Parameterization"
   ]
  },
  {
   "cell_type": "code",
   "execution_count": null,
   "metadata": {
    "slideshow": {
     "slide_type": "-"
    }
   },
   "outputs": [],
   "source": [
    "s = splines.UnitSpeedAdapter(splines.quaternion.CatmullRom(\n",
    "    rotations,\n",
    "    alpha=0.5,\n",
    "    endconditions='closed'))\n",
    "\n",
    "ani = animate_rotations(s.evaluate(np.linspace(s.grid[0], s.grid[-1], 200, endpoint=False)))\n",
    "\n",
    "display_animation(ani, default_mode='loop')"
   ]
  },
  {
   "cell_type": "markdown",
   "metadata": {
    "slideshow": {
     "slide_type": "subslide"
    }
   },
   "source": [
    "### Why de Casteljau's algorithm instead of Squad?\n",
    "\n",
    "De Casteljau provides derivative (i.e. angular speed),\n",
    "which is needed to calculate unit speed parameterization.\n",
    "\n",
    "![](de-casteljau.png)\n",
    "\n",
    "Squad doesn't provide that."
   ]
  },
  {
   "cell_type": "markdown",
   "metadata": {
    "slideshow": {
     "slide_type": "subslide"
    }
   },
   "source": [
    "### Centripetal + Unit Speed + Custom Parameterization"
   ]
  },
  {
   "cell_type": "code",
   "execution_count": null,
   "metadata": {
    "slideshow": {
     "slide_type": "-"
    }
   },
   "outputs": [],
   "source": [
    "s = splines.NewGridAdapter(\n",
    "    splines.UnitSpeedAdapter(\n",
    "        splines.quaternion.CatmullRom(\n",
    "            rotations,\n",
    "            alpha=0.5,\n",
    "            endconditions='closed')),\n",
    "    times)"
   ]
  },
  {
   "cell_type": "code",
   "execution_count": null,
   "metadata": {},
   "outputs": [],
   "source": [
    "ani_times = np.linspace(s.grid[0], s.grid[-1], 200, endpoint=False)\n",
    "ani = animate_rotations({\n",
    "    'Catmull–Rom': s_cr.evaluate(ani_times),\n",
    "    'Slerp': s_slerp.evaluate(ani_times),\n",
    "    're-parameterized': s.evaluate(ani_times),\n",
    "})\n",
    "display_animation(ani, default_mode='loop')"
   ]
  },
  {
   "cell_type": "markdown",
   "metadata": {
    "slideshow": {
     "slide_type": "subslide"
    }
   },
   "source": [
    "### Rotation Splines, Summary\n",
    "\n",
    "state of the art:\n",
    "\n",
    "* Slerp and Squad\n",
    "\n",
    "improvements:\n",
    "\n",
    "* centripetal parameterization for more predictable curve shape\n",
    "* re-parameterization for desired time/speed behavior\n",
    "  * constant angular speed re-parameterization\n",
    "    * de Casteljau's algorithm provides tangent vector (i.e. angular velocity)\n",
    "  * monotone spline re-parameterization"
   ]
  },
  {
   "cell_type": "markdown",
   "metadata": {
    "slideshow": {
     "slide_type": "slide"
    }
   },
   "source": [
    "## Audio Scene Description Format (ASDF)\n",
    "\n",
    "* temporal relationships as primary structure\n",
    "  * \"time containers\" inspired by the SMIL format\n",
    "  * `<par>` and `<seq>`\n",
    "    * can be arbitrarily nested\n",
    "  * \"time graph\" instead of \"scene graph\"\n",
    "* \"clips\" and \"transforms\" are positioned in the timeline\n",
    "  * audio clips are stored as traditional audio files\n",
    "  * transforms: position/rotation/volume splines\n",
    "    * can be applied to\n",
    "      * sound sources, or groups thereof\n",
    "      * other transforms, or groups thereof\n",
    "        * which can again be applied to ...\n",
    "          * and so on ..."
   ]
  },
  {
   "cell_type": "markdown",
   "metadata": {
    "slideshow": {
     "slide_type": "subslide"
    },
    "tags": []
   },
   "source": [
    "### Time Containers\n",
    "\n",
    "`<par>` and `<seq>` inspired by the [SMIL](https://www.w3.org/TR/SMIL/) format:\n",
    "\n",
    "```xml\n",
    "<asdf version=\"0.4\">\n",
    "  <par>\n",
    "    <clip file=\"audio/ukewave.ogg\" pos=\"0 2\" />\n",
    "    <seq>\n",
    "      <clip file=\"audio/marimba.ogg\">\n",
    "        <channel pos=\"-1 2\" />\n",
    "        <channel pos=\"1 2\" />\n",
    "      </clip>\n",
    "      <clip file=\"audio/xmas.wav\" pos=\"-1.5 0\" />\n",
    "    </seq>\n",
    "  </par>\n",
    "</asdf>\n",
    "```"
   ]
  },
  {
   "cell_type": "markdown",
   "metadata": {
    "slideshow": {
     "slide_type": "subslide"
    }
   },
   "source": [
    "### Nested Transforms\n",
    "\n",
    "```xml\n",
    "<asdf version=\"0.4\">\n",
    "  <par>\n",
    "    <clip id=\"ukulele\" file=\"audio/ukewave.ogg\" pos=\"-2 0\" />\n",
    "    <transform id=\"circular-motion\" apply-to=\"ukulele\" repeat=\"10\">\n",
    "      <o rot=\"0 0 0\" />\n",
    "      <o rot=\"0 0 90\" />\n",
    "      <o rot=\"0 0 180\" />\n",
    "      <o rot=\"0 0 -90\" />\n",
    "      <o rot=\"closed\" />\n",
    "    </transform>\n",
    "    <transform id=\"forward-motion\" apply-to=\"circular-motion\">\n",
    "      <o pos=\"0 -2\" />\n",
    "      <o pos=\"0 2\" />\n",
    "    </transform>\n",
    "  </par>\n",
    "</asdf>\n",
    "```"
   ]
  },
  {
   "cell_type": "markdown",
   "metadata": {
    "slideshow": {
     "slide_type": "subslide"
    }
   },
   "source": [
    "### Mixed Transform Attributes\n",
    "\n",
    "```xml\n",
    "<asdf version=\"0.4\">\n",
    "  <par>\n",
    "    <clip id=\"marimba\" file=\"audio/marimba.ogg\">\n",
    "      <channel pos=\"-1 0\" />\n",
    "      <channel pos=\"1 0\" />\n",
    "    </clip>\n",
    "    <transform apply-to=\"marimba\">\n",
    "      <o pos=\"0 -2\" rot=\"-20\" vol=\"1\" />\n",
    "      <o pos=\"0 0\" time=\"1s\" />\n",
    "      <o vol=\"1\" />\n",
    "      <o rot=\"0\" time=\"2s\" />\n",
    "      <o vol=\"0\" />\n",
    "      <o vol=\"1\" time=\"65%\" />\n",
    "      <o pos=\"0 2\" rot=\"20\" vol=\"1\"/>\n",
    "    </transform>\n",
    "  </par>\n",
    "</asdf>\n",
    "```"
   ]
  },
  {
   "cell_type": "markdown",
   "metadata": {
    "slideshow": {
     "slide_type": "subslide"
    }
   },
   "source": [
    "### Limitations of the ASDF\n",
    "\n",
    "* audio only\n",
    "* focus on movements\n",
    "* deterministic scenes, no interaction\n",
    "* no room simulation, no reverberation\n",
    "* no trimming of audio clips, only integer repetitions\n",
    "* no object rotation caused by the curvature of a trajectory\n",
    "* ..."
   ]
  },
  {
   "cell_type": "markdown",
   "metadata": {
    "slideshow": {
     "slide_type": "slide"
    }
   },
   "source": [
    "### Integration of the ASDF Library\n",
    "\n",
    "* stand-alone spatialization app\n",
    "  * SoundScape Renderer\n",
    "  * integration with JACK transport\n",
    "  \n",
    "* plugin for multimedia framework\n",
    "  * Pure Data (https://puredata.info/)\n",
    "  * `asdf~`"
   ]
  },
  {
   "cell_type": "markdown",
   "metadata": {
    "slideshow": {
     "slide_type": "subslide"
    }
   },
   "source": [
    "### Research Output\n",
    "\n",
    "* position and rotation splines\n",
    "  * documentation: https://splines.readthedocs.io/ (incl. Python module `splines`)\n",
    "  * splines library: https://github.com/AudioSceneDescriptionFormat/asdfspline-rust\n",
    "    * implemented in Rust (providing Python language bindings)\n",
    "* ASDF\n",
    "  * spec with examples: https://AudioSceneDescriptionFormat.readthedocs.io/\n",
    "  * more examples: https://github.com/AudioSceneDescriptionFormat/asdf-example-scenes\n",
    "  * library: https://github.com/AudioSceneDescriptionFormat/asdf-rust\n",
    "    * implemented in Rust (providing C language bindings)\n",
    "    * incl. external for Pure Data: `asdf~` (implemented in C)\n",
    "* SoundScape Renderer (incl. ASDF support): https://github.com/SoundScapeRenderer/ssr\n",
    "* thesis: https://github.com/mgeier/diss\n",
    "* slides: https://github.com/mgeier/defense\n",
    "\n",
    "Everything is Open Source & Open Science!"
   ]
  },
  {
   "cell_type": "markdown",
   "metadata": {
    "slideshow": {
     "slide_type": "slide"
    }
   },
   "source": [
    "## Bonus Slides"
   ]
  },
  {
   "cell_type": "markdown",
   "metadata": {
    "slideshow": {
     "slide_type": "slide"
    },
    "tags": []
   },
   "source": [
    "## Splines\n",
    "\n",
    "Goal: scene author defines a few points in 3D space, a smooth curve is generated\n",
    "\n",
    "further goals:\n",
    "\n",
    "* don't stray too far from the control points\n",
    "* changes in one place should only affect the immediate surroundings\n",
    "* control timing, control speed\n",
    "\n",
    "afterwards:\n",
    "\n",
    "* same for rotation!"
   ]
  },
  {
   "cell_type": "markdown",
   "metadata": {
    "slideshow": {
     "slide_type": "subslide"
    }
   },
   "source": [
    "### Cubic Polynomial Curves (one-dimensional)\n",
    "\n",
    "\\begin{equation*}\n",
    "\\boldsymbol{p}_i(t) = \\boldsymbol{d}_i t^3 + \\boldsymbol{c}_i t^2 + \\boldsymbol{b}_i t + \\boldsymbol{a}_i\n",
    "\\end{equation*}"
   ]
  },
  {
   "cell_type": "code",
   "execution_count": null,
   "metadata": {
    "scrolled": true,
    "slideshow": {
     "slide_type": "skip"
    }
   },
   "outputs": [],
   "source": [
    "def plot_slopes(s):\n",
    "    grid = s.grid\n",
    "    plot_slopes_1d(s.evaluate(grid, 1), s.evaluate(grid), grid, scale=2)"
   ]
  },
  {
   "cell_type": "code",
   "execution_count": null,
   "metadata": {},
   "outputs": [],
   "source": [
    "s_x = splines.Monomial([[-1.5, 0, 1.5, 0]])\n",
    "s_y = splines.Monomial([[2.75, -4.5, 0.75, 1]])"
   ]
  },
  {
   "cell_type": "code",
   "execution_count": null,
   "metadata": {},
   "outputs": [],
   "source": [
    "plot_spline_1d(s_x); plot_slopes(s_x)\n",
    "plot_spline_1d(s_y); plot_slopes(s_y)\n",
    "plt.xlabel('t')\n",
    "grid_lines([0, 1]); plt.ylim([-0.1, 1.5]);"
   ]
  },
  {
   "cell_type": "markdown",
   "metadata": {
    "slideshow": {
     "slide_type": "subslide"
    }
   },
   "source": [
    "### Cubic Polynomial Curves (two-dimensional)\n",
    "\n",
    "\\begin{equation*}\n",
    "\\boldsymbol{p}_i(t) = \\boldsymbol{d}_i t^3 + \\boldsymbol{c}_i t^2 + \\boldsymbol{b}_i t + \\boldsymbol{a}_i\n",
    "\\end{equation*}"
   ]
  },
  {
   "cell_type": "code",
   "execution_count": null,
   "metadata": {},
   "outputs": [],
   "source": [
    "s1 = splines.Monomial([[[-1.5, 2.75], [0, -4.5], [1.5, 0.75], [0, 1]]])"
   ]
  },
  {
   "cell_type": "code",
   "execution_count": null,
   "metadata": {
    "slideshow": {
     "slide_type": "skip"
    }
   },
   "outputs": [],
   "source": [
    "def plot_tangents(s):\n",
    "    plot_tangents_2d(s.evaluate(s.grid, 1), s.evaluate(s.grid))"
   ]
  },
  {
   "cell_type": "code",
   "execution_count": null,
   "metadata": {},
   "outputs": [],
   "source": [
    "plot_spline_2d(s1, chords=False)\n",
    "plot_tangents(s1)"
   ]
  },
  {
   "cell_type": "markdown",
   "metadata": {},
   "source": [
    "This also works for 3D and higher dimensions."
   ]
  },
  {
   "cell_type": "markdown",
   "metadata": {
    "slideshow": {
     "slide_type": "subslide"
    }
   },
   "source": [
    "### Calculating Coefficients from Positions & Slopes\n",
    "\n",
    "\\begin{equation*}\n",
    "\\boldsymbol{p}_i(t) =\n",
    "\\left[\\begin{matrix}t^{3} & t^{2} & t & 1\\end{matrix}\\right]\n",
    "\\left[\\begin{matrix}2 & -2 & 1 & 1\\\\-3 & 3 & -2 & -1\\\\0 & 0 & 1 & 0\\\\1 & 0 & 0 & 0\\end{matrix}\\right]\n",
    "\\left[\\begin{matrix}\\boldsymbol{x}_{i}\\\\\\boldsymbol{x}_{i+1}\\\\\\boldsymbol{\\dot{x}}_{i}\\\\\\boldsymbol{\\dot{x}}_{i+1}\\end{matrix}\\right]\n",
    "\\end{equation*}"
   ]
  },
  {
   "cell_type": "markdown",
   "metadata": {
    "slideshow": {
     "slide_type": "subslide"
    }
   },
   "source": [
    "### Smoothly Connecting Segments\n",
    "\n",
    "* uniform Catmull–Rom splines\n",
    "  (based on quadratic Lagrange interpolation and linear blending)\n",
    "* between segments: incoming tangent equals outgoing tangent\n",
    "* simple tangent equation:\n",
    "\n",
    "  \\begin{equation*}\n",
    "  \\boldsymbol{\\dot{x}}_i = \\frac{\\boldsymbol{x}_{i+1} - \\boldsymbol{x}_{i-1}}{2}\n",
    "  \\end{equation*}"
   ]
  },
  {
   "cell_type": "code",
   "execution_count": null,
   "metadata": {
    "slideshow": {
     "slide_type": "skip"
    }
   },
   "outputs": [],
   "source": [
    "def plot_cr_tangent():\n",
    "    points1 = [\n",
    "        (-1, -0.5),\n",
    "        (0, 2.3),\n",
    "        (1, 1),\n",
    "        (4, 1.3),\n",
    "        (3.8, -0.2),\n",
    "        (2.5, 0.1),\n",
    "    ]\n",
    "    idx = 2\n",
    "    s1 = splines.CatmullRom(points1, endconditions='closed')\n",
    "    plot_spline_2d(s1)\n",
    "    plot_tangent_2d(\n",
    "        s1.evaluate(s1.grid[idx], 1),\n",
    "        s1.evaluate(s1.grid[idx]), color='purple')\n",
    "    plt.plot(\n",
    "        *s1.evaluate([s1.grid[idx - 1], s1.grid[idx + 1]]).T,\n",
    "        '--', color='purple', linewidth=2)"
   ]
  },
  {
   "cell_type": "code",
   "execution_count": null,
   "metadata": {
    "scrolled": true
   },
   "outputs": [],
   "source": [
    "plot_cr_tangent()"
   ]
  },
  {
   "cell_type": "markdown",
   "metadata": {
    "slideshow": {
     "slide_type": "subslide"
    }
   },
   "source": [
    "### Cusps, Self-Intersections\n",
    "\n",
    "* uniform parameter intervals (for each segment from 0 to 1)"
   ]
  },
  {
   "cell_type": "code",
   "execution_count": null,
   "metadata": {},
   "outputs": [],
   "source": [
    "plot_spline_2d(splines.CatmullRom(vertices))"
   ]
  },
  {
   "cell_type": "markdown",
   "metadata": {
    "slideshow": {
     "slide_type": "subslide"
    }
   },
   "source": [
    "### Non-Uniform Splines\n",
    "\n",
    "* arbitrary parameter interval for each segment\n",
    "\n",
    "* tangent equation for uniform Catmull–Rom spline:\n",
    "\n",
    "  \\begin{equation*}\n",
    "  \\boldsymbol{\\dot{x}}_i = \\frac{\\boldsymbol{x}_{i+1} - \\boldsymbol{x}_{i-1}}{2}\n",
    "  \\end{equation*}\n",
    "  \n",
    "* tangent equation for non-uniform Catmull–Rom spline:\n",
    "\n",
    "  \\begin{equation*}\n",
    "  \\boldsymbol{\\dot{x}}_i =\n",
    "  \\frac{\n",
    "  (t_{i+1} - t_i) (\\boldsymbol{x}_i - \\boldsymbol{x}_{i-1})\n",
    "  }{\n",
    "  (t_i - t_{i-1})(t_{i+1} - t_{i-1})\n",
    "  }\n",
    "  +\n",
    "  \\frac{\n",
    "  (t_i - t_{i-1}) (\\boldsymbol{x}_{i+1} - \\boldsymbol{x}_i)\n",
    "  }{\n",
    "  (t_{i+1} - t_i)(t_{i+1} - t_{i-1})\n",
    "  }\n",
    "  \\end{equation*}"
   ]
  },
  {
   "cell_type": "markdown",
   "metadata": {
    "slideshow": {
     "slide_type": "slide"
    }
   },
   "source": [
    "## Quaternions and Rotations"
   ]
  },
  {
   "cell_type": "markdown",
   "metadata": {
    "slideshow": {
     "slide_type": "subslide"
    },
    "tags": []
   },
   "source": [
    "### (Unit) Quaternions\n",
    "\n",
    "quaternions:\n",
    "\n",
    "* 4-dimensional space\n",
    "* 4 components, \"scalar\" and \"vector\" parts:\n",
    "  \\begin{equation*}\n",
    "  q = (w, \\vec{v}) = (w, (x, y, z))\n",
    "  \\end{equation*}\n",
    "* multiplication is non-commutative"
   ]
  },
  {
   "cell_type": "markdown",
   "metadata": {
    "slideshow": {
     "slide_type": "fragment"
    },
    "tags": []
   },
   "source": [
    "unit quaternions:\n",
    "\n",
    "* all quaternions with length 1 $\\to$ unit hypersphere $S^3$\n",
    "* can be used to describe rotations (with \"double cover\")"
   ]
  },
  {
   "cell_type": "markdown",
   "metadata": {
    "slideshow": {
     "slide_type": "subslide"
    },
    "tags": []
   },
   "source": [
    "### Unit Quaternions as Rotations\n",
    "\n",
    "\\begin{equation*}\n",
    "q = \\left(\\cos \\frac{\\alpha}{2}, \\vec{n} \\sin \\frac{\\alpha}{2}\\right)\n",
    "\\end{equation*}"
   ]
  },
  {
   "cell_type": "code",
   "execution_count": null,
   "metadata": {
    "slideshow": {
     "slide_type": "fragment"
    },
    "tags": []
   },
   "outputs": [],
   "source": [
    "identity = angles2quat(0, 0, 0)\n",
    "identity"
   ]
  },
  {
   "cell_type": "code",
   "execution_count": null,
   "metadata": {
    "slideshow": {
     "slide_type": "fragment"
    },
    "tags": []
   },
   "outputs": [],
   "source": [
    "a = angles2quat(90, 0, 0)\n",
    "b = angles2quat(0, 35, 0)\n",
    "c = angles2quat(0, 0, 45)"
   ]
  },
  {
   "cell_type": "code",
   "execution_count": null,
   "metadata": {
    "slideshow": {
     "slide_type": "fragment"
    },
    "tags": []
   },
   "outputs": [],
   "source": [
    "plot_rotation({\n",
    "    'identity = 1': identity,\n",
    "    '$a$': a,\n",
    "    '$b$': b,\n",
    "    '$c$': c,\n",
    "});"
   ]
  },
  {
   "cell_type": "markdown",
   "metadata": {
    "slideshow": {
     "slide_type": "subslide"
    },
    "tags": []
   },
   "source": [
    "### Quaternion Multiplication\n",
    "\n",
    "non-commutative:\n",
    "\n",
    "\\begin{equation*}\n",
    "q_m q_n \\ne q_n q_m\n",
    "\\end{equation*}"
   ]
  },
  {
   "cell_type": "code",
   "execution_count": null,
   "metadata": {
    "slideshow": {
     "slide_type": ""
    },
    "tags": []
   },
   "outputs": [],
   "source": [
    "plot_rotation({'$ab$': a * b, '$ba$': b * a});"
   ]
  },
  {
   "cell_type": "markdown",
   "metadata": {
    "slideshow": {
     "slide_type": "subslide"
    },
    "tags": []
   },
   "source": [
    "### Quaternion Multiplication\n",
    "\n",
    "associative:\n",
    "\n",
    "\\begin{equation*}\n",
    "(q_1 q_2) q_3 = q_1 (q_2 q_3)\n",
    "\\end{equation*}"
   ]
  },
  {
   "cell_type": "code",
   "execution_count": null,
   "metadata": {
    "slideshow": {
     "slide_type": ""
    },
    "tags": []
   },
   "outputs": [],
   "source": [
    "plot_rotation({'$(bc)a$': (b * c) * a, '$b(ca)$': b * (c * a)});"
   ]
  },
  {
   "cell_type": "markdown",
   "metadata": {
    "slideshow": {
     "slide_type": "subslide"
    },
    "tags": []
   },
   "source": [
    "### Inverse\n",
    "\n",
    "written as: $q^{-1}$"
   ]
  },
  {
   "cell_type": "code",
   "execution_count": null,
   "metadata": {
    "slideshow": {
     "slide_type": ""
    },
    "tags": []
   },
   "outputs": [],
   "source": [
    "plot_rotation({'$b$': b, '$b^{-1}$': b.inverse()});"
   ]
  },
  {
   "cell_type": "markdown",
   "metadata": {
    "slideshow": {
     "slide_type": "fragment"
    },
    "tags": []
   },
   "source": [
    "\\begin{equation*}\n",
    "q q^{-1} = q^{-1} q = \\boldsymbol{1}\n",
    "\\end{equation*}"
   ]
  },
  {
   "cell_type": "markdown",
   "metadata": {
    "slideshow": {
     "slide_type": "fragment"
    },
    "tags": []
   },
   "source": [
    "for unit quaternions: $q^{-1} = \\overline{q}$"
   ]
  },
  {
   "cell_type": "markdown",
   "metadata": {
    "slideshow": {
     "slide_type": "fragment"
    },
    "tags": []
   },
   "source": [
    "\\begin{equation*}\n",
    "\\overline{q}\n",
    "= \\left(w, -\\vec{v}\\right)\n",
    "= \\left(\\cos \\frac{\\alpha}{2}, -\\vec{n} \\sin \\frac{\\alpha}{2}\\right)\n",
    "= \\left(\\cos \\frac{-\\alpha}{2}, \\vec{n} \\sin \\frac{-\\alpha}{2}\\right)\n",
    "\\end{equation*}"
   ]
  },
  {
   "cell_type": "markdown",
   "metadata": {
    "slideshow": {
     "slide_type": "subslide"
    },
    "tags": []
   },
   "source": [
    "### Exponentiation (integer exponents)"
   ]
  },
  {
   "cell_type": "code",
   "execution_count": null,
   "metadata": {
    "slideshow": {
     "slide_type": ""
    },
    "tags": []
   },
   "outputs": [],
   "source": [
    "plot_rotation({\n",
    "    '$a^0 = 1$': a**0,\n",
    "    '$a^1 = a$': a**1,\n",
    "    '$a^2 = aa$': a**2,\n",
    "    '$a^3 = aaa$': a**3,\n",
    "});"
   ]
  },
  {
   "cell_type": "markdown",
   "metadata": {
    "slideshow": {
     "slide_type": "subslide"
    },
    "tags": []
   },
   "source": [
    "### Exponentiation (real exponents)"
   ]
  },
  {
   "cell_type": "code",
   "execution_count": null,
   "metadata": {
    "slideshow": {
     "slide_type": ""
    },
    "tags": []
   },
   "outputs": [],
   "source": [
    "plot_rotation({\n",
    "    '$a^1 = a$': a**1,\n",
    "    '$a^{0.5}$': a**0.5,\n",
    "    '$a^0 = 1$': a**0,\n",
    "    '$a^{-0.5}$': a**-0.5,\n",
    "});"
   ]
  },
  {
   "cell_type": "markdown",
   "metadata": {
    "slideshow": {
     "slide_type": ""
    },
    "tags": []
   },
   "source": [
    "\\begin{equation*}\n",
    "q^k = \\left(\\cos \\frac{k\\alpha}{2}, \\vec{n} \\sin \\frac{k\\alpha}{2}\\right)\n",
    "\\end{equation*}"
   ]
  },
  {
   "cell_type": "markdown",
   "metadata": {
    "slideshow": {
     "slide_type": "subslide"
    },
    "tags": []
   },
   "source": [
    "### Negation"
   ]
  },
  {
   "cell_type": "code",
   "execution_count": null,
   "metadata": {
    "slideshow": {
     "slide_type": ""
    },
    "tags": []
   },
   "outputs": [],
   "source": [
    "plot_rotation({'$c$': c, '$-c$': -c});"
   ]
  },
  {
   "cell_type": "markdown",
   "metadata": {
    "slideshow": {
     "slide_type": ""
    },
    "tags": []
   },
   "source": [
    "\\begin{equation*}\n",
    "-q\n",
    "= \\left(-w, -\\vec{v}\\right)\n",
    "= \\left(\n",
    "\\cos \\frac{\\alpha + 2 \\pi}{2},\n",
    "\\vec{n} \\sin \\frac{\\alpha + 2 \\pi}{2}\n",
    "\\right)\n",
    "\\end{equation*}"
   ]
  },
  {
   "cell_type": "markdown",
   "metadata": {
    "slideshow": {
     "slide_type": "subslide"
    }
   },
   "source": [
    "### How To Interpolate Unit Quaternions?\n",
    "\n",
    "* polynomials in a curved space?\n",
    "\n",
    "* use De Casteljau's algorithm with [spherical linear interpolation (Slerp)](https://splines.readthedocs.io/en/0.3.1/rotation/slerp.html)\n",
    "  * see the following slides\n",
    "\n",
    "  \\begin{equation*}\n",
    "  \\operatorname{Slerp}(q_0, q_1; t) = \\left(q_1 {q_0}^{-1}\\right)^t \\, q_0\n",
    "  \\end{equation*}"
   ]
  },
  {
   "cell_type": "markdown",
   "metadata": {
    "slideshow": {
     "slide_type": "subslide"
    }
   },
   "source": [
    "### Slerp Animation"
   ]
  },
  {
   "cell_type": "code",
   "execution_count": null,
   "metadata": {
    "slideshow": {
     "slide_type": "skip"
    }
   },
   "outputs": [],
   "source": [
    "from splines.quaternion import slerp"
   ]
  },
  {
   "cell_type": "code",
   "execution_count": null,
   "metadata": {},
   "outputs": [],
   "source": [
    "q1 = angles2quat(45, -20, -60)\n",
    "q2 = angles2quat(-45, 20, 30)"
   ]
  },
  {
   "cell_type": "code",
   "execution_count": null,
   "metadata": {
    "slideshow": {
     "slide_type": "skip"
    }
   },
   "outputs": [],
   "source": [
    "ani_times = np.linspace(0, 1, 100)\n",
    "slerp_ani = animate_rotations({\n",
    "    'slerp(q1, q2)': slerp(q1, q2, ani_times),\n",
    "    'slerp(q1, -q2)': slerp(q1, -q2, ani_times),\n",
    "})"
   ]
  },
  {
   "cell_type": "code",
   "execution_count": null,
   "metadata": {
    "scrolled": true
   },
   "outputs": [],
   "source": [
    "display_animation(slerp_ani, default_mode='reflect')"
   ]
  },
  {
   "cell_type": "markdown",
   "metadata": {
    "slideshow": {
     "slide_type": "slide"
    }
   },
   "source": [
    "### Calculating Bézier Control Points\n",
    "\n",
    "Goal: find the Bézier control points\n",
    "using Catmull–Rom tangents,\n",
    "given neighboring rotations.\n",
    "\n",
    "Based on the non-uniform\n",
    "[equations for the Euclidean case](https://splines.readthedocs.io/en/0.3.1/euclidean/catmull-rom-non-uniform.html#Using-Non-Uniform-Bézier-Segments),\n",
    "we are trying to come up with\n",
    "[equations for rotations using unit quaternions](https://splines.readthedocs.io/en/0.3.1/rotation/catmull-rom-non-uniform.html)\n",
    "(see next slide)."
   ]
  },
  {
   "cell_type": "markdown",
   "metadata": {
    "slideshow": {
     "slide_type": "subslide"
    }
   },
   "source": [
    "\\begin{align*}\n",
    "\\boldsymbol{v}_i &= \\frac{\n",
    "\\boldsymbol{x}_{i+1} - \\boldsymbol{x}_i\n",
    "}{\n",
    "t_{i+1} - t_i\n",
    "}\n",
    "\\\\\n",
    "\\boldsymbol{\\dot{x}}_i\n",
    "&= \\frac{\n",
    "(t_{i+1} - t_i) \\, \\boldsymbol{v}_{i-1} + (t_i - t_{i-1}) \\, \\boldsymbol{v}_i\n",
    "}{\n",
    "t_{i+1} - t_{i-1}\n",
    "}\n",
    "\\\\\n",
    "\\boldsymbol{\\tilde{x}}_i^{(+)}\n",
    "&= \\boldsymbol{x}_i + \\frac{(t_{i+1} - t_i) \\, \\boldsymbol{\\dot{x}}_i}{3}\n",
    "\\\\\n",
    "\\boldsymbol{\\tilde{x}}_i^{(-)}\n",
    "&= \\boldsymbol{x}_i - \\frac{(t_i - t_{i-1}) \\, \\boldsymbol{\\dot{x}}_i}{3}\n",
    "\\end{align*}\n",
    "\n",
    "----\n",
    "\n",
    "\\begin{align*}\n",
    "\\vec{\\rho}_{i} &= \\frac{\\ln(q_{i+1} {q_i}^{-1})}{t_{i+1} - t_i}\n",
    "\\\\\n",
    "\\vec{\\omega}_i &=\n",
    "\\frac{\n",
    "(t_{i+1} - t_i) \\, \\vec{\\rho}_{i-1} +\n",
    "(t_i - t_{i-1}) \\, \\vec{\\rho}_{i}\n",
    "}{\n",
    "t_{i+1} - t_{i-1}\n",
    "}\n",
    "\\\\\n",
    "\\tilde{q}_i^{(+)}\n",
    "&=\n",
    "\\exp\\left(\\frac{t_{i+1} - t_i}{3} \\, \\vec{\\omega}_i\\right) \\, q_i\n",
    "\\\\\n",
    "\\tilde{q}_i^{(-)}\n",
    "&=\n",
    "\\exp\\left(\\frac{t_i - t_{i-1}}{3} \\, \\vec{\\omega}_i\\right)^{-1} \\, q_i\n",
    "\\end{align*}"
   ]
  }
 ],
 "metadata": {
  "celltoolbar": "Slideshow",
  "kernelspec": {
   "display_name": "Python 3 (ipykernel)",
   "language": "python",
   "name": "python3"
  },
  "language_info": {
   "codemirror_mode": {
    "name": "ipython",
    "version": 3
   },
   "file_extension": ".py",
   "mimetype": "text/x-python",
   "name": "python",
   "nbconvert_exporter": "python",
   "pygments_lexer": "ipython3",
   "version": "3.11.8"
  },
  "livereveal": {
   "autolaunch": true
  }
 },
 "nbformat": 4,
 "nbformat_minor": 4
}
